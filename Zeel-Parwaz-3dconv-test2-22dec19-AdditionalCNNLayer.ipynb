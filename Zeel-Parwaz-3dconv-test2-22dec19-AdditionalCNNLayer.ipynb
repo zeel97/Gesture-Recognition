{
 "cells": [
  {
   "cell_type": "markdown",
   "metadata": {},
   "source": [
    "# Gesture Recognition\n",
    "In this group project, you are going to build a 3D Conv model that will be able to predict the 5 gestures correctly. Please import the following libraries to get started."
   ]
  },
  {
   "cell_type": "markdown",
   "metadata": {},
   "source": [
    "### Parameters\n",
    "batch size = 30 <br>\n",
    "epoch size = 25\n"
   ]
  },
  {
   "cell_type": "code",
   "execution_count": 1,
   "metadata": {},
   "outputs": [],
   "source": [
    "import numpy as np\n",
    "import os\n",
    "from scipy.misc import imread, imresize\n",
    "import datetime\n",
    "import os"
   ]
  },
  {
   "cell_type": "markdown",
   "metadata": {},
   "source": [
    "We set the random seed so that the results don't vary drastically."
   ]
  },
  {
   "cell_type": "code",
   "execution_count": 2,
   "metadata": {},
   "outputs": [
    {
     "name": "stderr",
     "output_type": "stream",
     "text": [
      "Using TensorFlow backend.\n"
     ]
    }
   ],
   "source": [
    "np.random.seed(30)\n",
    "import random as rn\n",
    "rn.seed(30)\n",
    "from keras import backend as K\n",
    "import tensorflow as tf\n",
    "tf.set_random_seed(30)\n",
    "# tf.random.set_seed(30)"
   ]
  },
  {
   "cell_type": "markdown",
   "metadata": {},
   "source": [
    "In this block, you read the folder names for training and validation. You also set the `batch_size` here. Note that you set the batch size in such a way that you are able to use the GPU in full capacity. You keep increasing the batch size until the machine throws an error."
   ]
  },
  {
   "cell_type": "code",
   "execution_count": 3,
   "metadata": {},
   "outputs": [],
   "source": [
    "train_doc = np.random.permutation(open('/notebooks/storage/Final_data/Collated_training/train.csv').readlines())\n",
    "val_doc = np.random.permutation(open('/notebooks/storage/Final_data/Collated_training/val.csv').readlines())\n",
    "# train_doc = np.random.permutation(open('./Project_data/train.csv').readlines())\n",
    "# val_doc = np.random.permutation(open('./Project_data/val.csv').readlines())\n",
    "\n",
    "batch_size = 30 # experiment with the batch size"
   ]
  },
  {
   "cell_type": "code",
   "execution_count": 4,
   "metadata": {},
   "outputs": [
    {
     "data": {
      "text/plain": [
       "663"
      ]
     },
     "execution_count": 4,
     "metadata": {},
     "output_type": "execute_result"
    }
   ],
   "source": [
    "len(train_doc)"
   ]
  },
  {
   "cell_type": "markdown",
   "metadata": {},
   "source": [
    "## Generator\n",
    "This is one of the most important part of the code. The overall structure of the generator has been given. In the generator, you are going to preprocess the images as you have images of 2 different dimensions as well as create a batch of video frames. You have to experiment with `img_idx`, `y`,`z` and normalization such that you get high accuracy."
   ]
  },
  {
   "cell_type": "code",
   "execution_count": 5,
   "metadata": {},
   "outputs": [],
   "source": [
    "#source_path is the path where the image folders are\n",
    "#folder_list is the .csv files (train_doc or val_doc)\n",
    "def generator(source_path, folder_list, batch_size): \n",
    "    print( 'Source path = ', source_path, '; batch size =', batch_size)\n",
    "    x = 30\n",
    "    y = 100\n",
    "    z = 100\n",
    "    channels = 3\n",
    "    #can choose the number of images to use for 1 video - 30 may increase the training time\n",
    "    img_idx = range(0,30,3) #create a list of image numbers you want to use for a particular video\n",
    "    #while True: makes sure that code execution flow will not stop - for epochs\n",
    "    while True:\n",
    "        t = np.random.permutation(folder_list) #shuffles the folders - so there is a mix of all the classes\n",
    "        #num_batches is the no.of sequences(video)/batch_size\n",
    "        num_batches = np.math.floor(len(folder_list)/batch_size) # calculate the number of batches\n",
    "        for batch in range(num_batches): \n",
    "            batch_data = np.zeros((batch_size,len(img_idx),y,z,channels)) # x is the number of images you use for each video, (y,z) is the final size of the input images and 3 is the number of channels RGB\n",
    "            batch_labels = np.zeros((batch_size,5)) # batch_labels is the one hot representation of the output\n",
    "            for folder in range(batch_size): # iterate over the batch_size\n",
    "                imgs = os.listdir(source_path+'/'+ t[folder + (batch*batch_size)].split(';')[0]) # read all the images in the folder\n",
    "                for idx,item in enumerate(img_idx): #  Iterate iver the frames/images of a folder to read them in\n",
    "                    image = imread(source_path+'/'+ t[folder + (batch*batch_size)].strip().split(';')[0]+'/'+imgs[item]).astype(np.float32)\n",
    "                    \n",
    "                    #crop the images and resize them. Note that the images are of 2 different shape \n",
    "                    #and the conv3D will throw error if the inputs in a batch have different shapes\n",
    "                    \n",
    "                    image = imresize(image, (100,100))\n",
    "                      \n",
    "                    batch_data[folder,idx,:,:,0] = (image[:, :, 0] - image[:, :, 0].min())/(image[:, :, 0].max() - image[:, :, 0].min())\n",
    "                    batch_data[folder,idx,:,:,1] = (image[:, :, 1] - image[:, :, 1].min())/(image[:, :, 1].max() - image[:, :, 1].min())\n",
    "                    batch_data[folder,idx,:,:,2] = (image[:, :, 2] - image[:, :, 2].min())/(image[:, :, 2].max() - image[:, :, 2].min())\n",
    "                                        \n",
    "                batch_labels[folder, int(t[folder + (batch*batch_size)].strip().split(';')[2])] = 1\n",
    "            yield batch_data, batch_labels #you yield the batch_data and the batch_labels, remember what does yield do\n",
    "\n",
    "        \n",
    "        # write the code for the remaining data points which are left after full batches\n",
    "        # The data is left as is, instead of adding more data to match the batch size. \n",
    "        # This is done, on the understanding/assumption that due to the random sampling at the start of each epoch, the data would be trained across the other epochs. \n",
    "        # This helps to add an unknown data while training, which can help reduce the chance of overfitting\n"
   ]
  },
  {
   "cell_type": "markdown",
   "metadata": {},
   "source": [
    "Note here that a video is represented above in the generator as (number of images, height, width, number of channels). Take this into consideration while creating the model architecture."
   ]
  },
  {
   "cell_type": "code",
   "execution_count": 6,
   "metadata": {},
   "outputs": [
    {
     "name": "stdout",
     "output_type": "stream",
     "text": [
      "# training sequences = 663\n",
      "# validation sequences = 100\n",
      "# epochs = 25\n"
     ]
    }
   ],
   "source": [
    "curr_dt_time = datetime.datetime.now()\n",
    "train_path = '/notebooks/storage/Final_data/Collated_training/train'\n",
    "val_path = '/notebooks/storage/Final_data/Collated_training/val'\n",
    "# train_path = './Project_data/train'\n",
    "# val_path = './Project_data/val'\n",
    "num_train_sequences = len(train_doc)\n",
    "print('# training sequences =', num_train_sequences)\n",
    "num_val_sequences = len(val_doc)\n",
    "print('# validation sequences =', num_val_sequences)\n",
    "num_epochs = 25\n",
    "print ('# epochs =', num_epochs)"
   ]
  },
  {
   "cell_type": "markdown",
   "metadata": {},
   "source": [
    "## Model\n",
    "Here you make the model using different functionalities that Keras provides. Remember to use `Conv3D` and `MaxPooling3D` and not `Conv2D` and `Maxpooling2D` for a 3D convolution model. You would want to use `TimeDistributed` while building a Conv2D + RNN model. Also remember that the last layer is the softmax. Design the network in such a way that the model is able to give good accuracy on the least number of parameters so that it can fit in the memory of the webcam."
   ]
  },
  {
   "cell_type": "code",
   "execution_count": 7,
   "metadata": {},
   "outputs": [],
   "source": [
    "from keras.models import Sequential, Model\n",
    "from keras.layers import Dense, GRU, Flatten, TimeDistributed, Flatten, BatchNormalization, Activation, Dropout\n",
    "from keras.layers.convolutional import Conv3D, MaxPooling3D\n",
    "from keras.callbacks import ModelCheckpoint, ReduceLROnPlateau\n",
    "from keras import optimizers\n",
    "\n",
    "#write your model here\n",
    "model = Sequential()\n",
    "\n",
    "model.add(Conv3D(32, kernel_size=(3,3,3),activation='relu',input_shape = (10, 100, 100, 3)))\n",
    "model.add(MaxPooling3D(pool_size=(2, 2,2)))\n",
    "model.add(Dropout(0.25))\n",
    "\n",
    "model.add(Conv3D(64, kernel_size=(3,3,3),activation='relu'))\n",
    "model.add(MaxPooling3D(pool_size=(2, 2,2)))\n",
    "model.add(Dropout(0.25))\n",
    "\n",
    "model.add(Conv3D(32, kernel_size=(3,3,3),activation='relu', padding='same'))\n",
    "model.add(MaxPooling3D(pool_size=(1,1,1)))\n",
    "model.add(Dropout(0.25))\n",
    "\n",
    "# flatten and put a fully connected layer\n",
    "model.add(Flatten())\n",
    "model.add(Dense(128, activation='relu')) # fully connected\n",
    "model.add(Dropout(0.5))\n",
    "\n",
    "# softmax layer\n",
    "model.add(Dense(5, activation='softmax'))"
   ]
  },
  {
   "cell_type": "markdown",
   "metadata": {},
   "source": [
    "Now that you have written the model, the next step is to `compile` the model. When you print the `summary` of the model, you'll see the total number of parameters you have to train."
   ]
  },
  {
   "cell_type": "code",
   "execution_count": 8,
   "metadata": {
    "scrolled": true
   },
   "outputs": [
    {
     "name": "stdout",
     "output_type": "stream",
     "text": [
      "_________________________________________________________________\n",
      "Layer (type)                 Output Shape              Param #   \n",
      "=================================================================\n",
      "conv3d_1 (Conv3D)            (None, 8, 98, 98, 32)     2624      \n",
      "_________________________________________________________________\n",
      "max_pooling3d_1 (MaxPooling3 (None, 4, 49, 49, 32)     0         \n",
      "_________________________________________________________________\n",
      "dropout_1 (Dropout)          (None, 4, 49, 49, 32)     0         \n",
      "_________________________________________________________________\n",
      "conv3d_2 (Conv3D)            (None, 2, 47, 47, 64)     55360     \n",
      "_________________________________________________________________\n",
      "max_pooling3d_2 (MaxPooling3 (None, 1, 23, 23, 64)     0         \n",
      "_________________________________________________________________\n",
      "dropout_2 (Dropout)          (None, 1, 23, 23, 64)     0         \n",
      "_________________________________________________________________\n",
      "conv3d_3 (Conv3D)            (None, 1, 23, 23, 32)     55328     \n",
      "_________________________________________________________________\n",
      "max_pooling3d_3 (MaxPooling3 (None, 1, 23, 23, 32)     0         \n",
      "_________________________________________________________________\n",
      "dropout_3 (Dropout)          (None, 1, 23, 23, 32)     0         \n",
      "_________________________________________________________________\n",
      "flatten_1 (Flatten)          (None, 16928)             0         \n",
      "_________________________________________________________________\n",
      "dense_1 (Dense)              (None, 128)               2166912   \n",
      "_________________________________________________________________\n",
      "dropout_4 (Dropout)          (None, 128)               0         \n",
      "_________________________________________________________________\n",
      "dense_2 (Dense)              (None, 5)                 645       \n",
      "=================================================================\n",
      "Total params: 2,280,869\n",
      "Trainable params: 2,280,869\n",
      "Non-trainable params: 0\n",
      "_________________________________________________________________\n",
      "None\n"
     ]
    }
   ],
   "source": [
    "optimiser = 'adam'\n",
    "model.compile(optimizer=optimiser, loss='categorical_crossentropy', metrics=['categorical_accuracy'])\n",
    "print (model.summary())"
   ]
  },
  {
   "cell_type": "markdown",
   "metadata": {},
   "source": [
    "Let us create the `train_generator` and the `val_generator` which will be used in `.fit_generator`."
   ]
  },
  {
   "cell_type": "code",
   "execution_count": 9,
   "metadata": {},
   "outputs": [],
   "source": [
    "train_generator = generator(train_path, train_doc, batch_size)\n",
    "val_generator = generator(val_path, val_doc, batch_size)"
   ]
  },
  {
   "cell_type": "code",
   "execution_count": 10,
   "metadata": {},
   "outputs": [],
   "source": [
    "model_name = 'model_init' + '_' + str(curr_dt_time).replace(' ','').replace(':','_') + '/'\n",
    "    \n",
    "if not os.path.exists(model_name):\n",
    "    os.mkdir(model_name)\n",
    "        \n",
    "filepath = model_name + 'model-{epoch:05d}-{loss:.5f}-{categorical_accuracy:.5f}-{val_loss:.5f}-{val_categorical_accuracy:.5f}.h5'\n",
    "\n",
    "checkpoint = ModelCheckpoint(filepath, monitor='val_loss', verbose=1, save_best_only=False, save_weights_only=False, mode='auto', period=1)\n",
    "\n",
    "#Reducing the learning rate - change the learning rate everytime the validation accuracy becomes steady\n",
    "LR = ReduceLROnPlateau(monitor='val_loss', factor=0.5,\n",
    "                              patience=2, min_lr=0.001) # write the REducelronplateau code here\n",
    "callbacks_list = [checkpoint, LR]"
   ]
  },
  {
   "cell_type": "markdown",
   "metadata": {},
   "source": [
    "The `steps_per_epoch` and `validation_steps` are used by `fit_generator` to decide the number of next() calls it need to make."
   ]
  },
  {
   "cell_type": "code",
   "execution_count": 11,
   "metadata": {},
   "outputs": [],
   "source": [
    "if (num_train_sequences%batch_size) == 0:\n",
    "    steps_per_epoch = int(num_train_sequences/batch_size)\n",
    "else:\n",
    "    steps_per_epoch = (num_train_sequences//batch_size) + 1\n",
    "\n",
    "if (num_val_sequences%batch_size) == 0:\n",
    "    validation_steps = int(num_val_sequences/batch_size)\n",
    "else:\n",
    "    validation_steps = (num_val_sequences//batch_size) + 1"
   ]
  },
  {
   "cell_type": "markdown",
   "metadata": {},
   "source": [
    "Let us now fit the model. This will start training the model and with the help of the checkpoints, you'll be able to save the model at the end of each epoch."
   ]
  },
  {
   "cell_type": "code",
   "execution_count": 12,
   "metadata": {},
   "outputs": [
    {
     "name": "stdout",
     "output_type": "stream",
     "text": [
      "Source path =  ./Project_data/val ; batch size = 30\n",
      "Source path =  ./Project_data/train ; batch size = 30\n",
      "Epoch 1/25\n"
     ]
    },
    {
     "name": "stderr",
     "output_type": "stream",
     "text": [
      "/mnt/disks/user/anaconda3/lib/python3.6/site-packages/ipykernel_launcher.py:22: DeprecationWarning: `imread` is deprecated!\n",
      "`imread` is deprecated in SciPy 1.0.0, and will be removed in 1.2.0.\n",
      "Use ``imageio.imread`` instead.\n",
      "/mnt/disks/user/anaconda3/lib/python3.6/site-packages/ipykernel_launcher.py:27: DeprecationWarning: `imresize` is deprecated!\n",
      "`imresize` is deprecated in SciPy 1.0.0, and will be removed in 1.2.0.\n",
      "Use ``skimage.transform.resize`` instead.\n"
     ]
    },
    {
     "name": "stdout",
     "output_type": "stream",
     "text": [
      "23/23 [==============================] - 32s 1s/step - loss: 1.6208 - categorical_accuracy: 0.2246 - val_loss: 1.6033 - val_categorical_accuracy: 0.2417\n",
      "\n",
      "Epoch 00001: saving model to model_init_2019-12-2218_59_47.526851/model-00001-1.62084-0.22464-1.60332-0.24167.h5\n",
      "Epoch 2/25\n",
      "23/23 [==============================] - 28s 1s/step - loss: 1.5811 - categorical_accuracy: 0.2623 - val_loss: 1.5223 - val_categorical_accuracy: 0.2833\n",
      "\n",
      "Epoch 00002: saving model to model_init_2019-12-2218_59_47.526851/model-00002-1.58113-0.26232-1.52227-0.28333.h5\n",
      "Epoch 3/25\n",
      "23/23 [==============================] - 27s 1s/step - loss: 1.4717 - categorical_accuracy: 0.3420 - val_loss: 1.3977 - val_categorical_accuracy: 0.4083\n",
      "\n",
      "Epoch 00003: saving model to model_init_2019-12-2218_59_47.526851/model-00003-1.47173-0.34203-1.39765-0.40833.h5\n",
      "Epoch 4/25\n",
      "23/23 [==============================] - 27s 1s/step - loss: 1.3454 - categorical_accuracy: 0.4348 - val_loss: 1.3880 - val_categorical_accuracy: 0.5000\n",
      "\n",
      "Epoch 00004: saving model to model_init_2019-12-2218_59_47.526851/model-00004-1.34543-0.43478-1.38799-0.50000.h5\n",
      "Epoch 5/25\n",
      "23/23 [==============================] - 27s 1s/step - loss: 1.3087 - categorical_accuracy: 0.4377 - val_loss: 1.3102 - val_categorical_accuracy: 0.4667\n",
      "\n",
      "Epoch 00005: saving model to model_init_2019-12-2218_59_47.526851/model-00005-1.30870-0.43768-1.31022-0.46667.h5\n",
      "Epoch 6/25\n",
      "23/23 [==============================] - 28s 1s/step - loss: 1.1203 - categorical_accuracy: 0.5594 - val_loss: 1.1213 - val_categorical_accuracy: 0.6000\n",
      "\n",
      "Epoch 00006: saving model to model_init_2019-12-2218_59_47.526851/model-00006-1.12032-0.55942-1.12125-0.60000.h5\n",
      "Epoch 7/25\n",
      "23/23 [==============================] - 27s 1s/step - loss: 1.1091 - categorical_accuracy: 0.5536 - val_loss: 1.1556 - val_categorical_accuracy: 0.5333\n",
      "\n",
      "Epoch 00007: saving model to model_init_2019-12-2218_59_47.526851/model-00007-1.10912-0.55362-1.15561-0.53333.h5\n",
      "Epoch 8/25\n",
      "23/23 [==============================] - 28s 1s/step - loss: 0.9702 - categorical_accuracy: 0.6072 - val_loss: 1.1025 - val_categorical_accuracy: 0.5167\n",
      "\n",
      "Epoch 00008: saving model to model_init_2019-12-2218_59_47.526851/model-00008-0.97022-0.60725-1.10249-0.51667.h5\n",
      "Epoch 9/25\n",
      "23/23 [==============================] - 27s 1s/step - loss: 0.8899 - categorical_accuracy: 0.6478 - val_loss: 0.9466 - val_categorical_accuracy: 0.6000\n",
      "\n",
      "Epoch 00009: saving model to model_init_2019-12-2218_59_47.526851/model-00009-0.88994-0.64783-0.94658-0.60000.h5\n",
      "Epoch 10/25\n",
      "23/23 [==============================] - 27s 1s/step - loss: 0.7553 - categorical_accuracy: 0.7043 - val_loss: 0.8578 - val_categorical_accuracy: 0.6417\n",
      "\n",
      "Epoch 00010: saving model to model_init_2019-12-2218_59_47.526851/model-00010-0.75527-0.70435-0.85781-0.64167.h5\n",
      "Epoch 11/25\n",
      "23/23 [==============================] - 28s 1s/step - loss: 0.6712 - categorical_accuracy: 0.7333 - val_loss: 0.8481 - val_categorical_accuracy: 0.6167\n",
      "\n",
      "Epoch 00011: saving model to model_init_2019-12-2218_59_47.526851/model-00011-0.67117-0.73333-0.84806-0.61667.h5\n",
      "Epoch 12/25\n",
      "23/23 [==============================] - 27s 1s/step - loss: 0.6252 - categorical_accuracy: 0.7464 - val_loss: 0.7978 - val_categorical_accuracy: 0.6500\n",
      "\n",
      "Epoch 00012: saving model to model_init_2019-12-2218_59_47.526851/model-00012-0.62518-0.74638-0.79781-0.65000.h5\n",
      "Epoch 13/25\n",
      "23/23 [==============================] - 27s 1s/step - loss: 0.5278 - categorical_accuracy: 0.8130 - val_loss: 0.8182 - val_categorical_accuracy: 0.6417\n",
      "\n",
      "Epoch 00013: saving model to model_init_2019-12-2218_59_47.526851/model-00013-0.52778-0.81304-0.81817-0.64167.h5\n",
      "Epoch 14/25\n",
      "23/23 [==============================] - 27s 1s/step - loss: 0.4699 - categorical_accuracy: 0.8261 - val_loss: 0.8733 - val_categorical_accuracy: 0.6083\n",
      "\n",
      "Epoch 00014: saving model to model_init_2019-12-2218_59_47.526851/model-00014-0.46993-0.82609-0.87331-0.60833.h5\n",
      "Epoch 15/25\n",
      "23/23 [==============================] - 27s 1s/step - loss: 0.3859 - categorical_accuracy: 0.8609 - val_loss: 0.8150 - val_categorical_accuracy: 0.6500\n",
      "\n",
      "Epoch 00015: saving model to model_init_2019-12-2218_59_47.526851/model-00015-0.38592-0.86087-0.81500-0.65000.h5\n",
      "Epoch 16/25\n",
      "23/23 [==============================] - 27s 1s/step - loss: 0.3446 - categorical_accuracy: 0.8565 - val_loss: 0.8600 - val_categorical_accuracy: 0.6333\n",
      "\n",
      "Epoch 00016: saving model to model_init_2019-12-2218_59_47.526851/model-00016-0.34457-0.85652-0.86001-0.63333.h5\n",
      "Epoch 17/25\n",
      "23/23 [==============================] - 28s 1s/step - loss: 0.3095 - categorical_accuracy: 0.8725 - val_loss: 1.0475 - val_categorical_accuracy: 0.6583\n",
      "\n",
      "Epoch 00017: saving model to model_init_2019-12-2218_59_47.526851/model-00017-0.30946-0.87246-1.04746-0.65833.h5\n",
      "Epoch 18/25\n",
      "23/23 [==============================] - 27s 1s/step - loss: 0.2271 - categorical_accuracy: 0.9159 - val_loss: 1.1364 - val_categorical_accuracy: 0.6250\n",
      "\n",
      "Epoch 00018: saving model to model_init_2019-12-2218_59_47.526851/model-00018-0.22707-0.91594-1.13637-0.62500.h5\n",
      "Epoch 19/25\n",
      "23/23 [==============================] - 27s 1s/step - loss: 0.2418 - categorical_accuracy: 0.9130 - val_loss: 1.1944 - val_categorical_accuracy: 0.6583\n",
      "\n",
      "Epoch 00019: saving model to model_init_2019-12-2218_59_47.526851/model-00019-0.24180-0.91304-1.19442-0.65833.h5\n",
      "Epoch 20/25\n",
      "23/23 [==============================] - 27s 1s/step - loss: 0.2328 - categorical_accuracy: 0.9101 - val_loss: 1.2299 - val_categorical_accuracy: 0.6167\n",
      "\n",
      "Epoch 00020: saving model to model_init_2019-12-2218_59_47.526851/model-00020-0.23276-0.91014-1.22987-0.61667.h5\n",
      "Epoch 21/25\n",
      "23/23 [==============================] - 27s 1s/step - loss: 0.2195 - categorical_accuracy: 0.9188 - val_loss: 0.8268 - val_categorical_accuracy: 0.7083\n",
      "\n",
      "Epoch 00021: saving model to model_init_2019-12-2218_59_47.526851/model-00021-0.21954-0.91884-0.82680-0.70833.h5\n",
      "Epoch 22/25\n",
      "23/23 [==============================] - 27s 1s/step - loss: 0.1762 - categorical_accuracy: 0.9319 - val_loss: 0.9674 - val_categorical_accuracy: 0.7250\n",
      "\n",
      "Epoch 00022: saving model to model_init_2019-12-2218_59_47.526851/model-00022-0.17624-0.93188-0.96736-0.72500.h5\n",
      "Epoch 23/25\n",
      "23/23 [==============================] - 28s 1s/step - loss: 0.1730 - categorical_accuracy: 0.9391 - val_loss: 1.0143 - val_categorical_accuracy: 0.6917\n",
      "\n",
      "Epoch 00023: saving model to model_init_2019-12-2218_59_47.526851/model-00023-0.17295-0.93913-1.01427-0.69167.h5\n",
      "Epoch 24/25\n",
      "23/23 [==============================] - 27s 1s/step - loss: 0.1422 - categorical_accuracy: 0.9391 - val_loss: 1.1674 - val_categorical_accuracy: 0.6417\n",
      "\n",
      "Epoch 00024: saving model to model_init_2019-12-2218_59_47.526851/model-00024-0.14221-0.93913-1.16736-0.64167.h5\n",
      "Epoch 25/25\n",
      "23/23 [==============================] - 27s 1s/step - loss: 0.1490 - categorical_accuracy: 0.9493 - val_loss: 1.3233 - val_categorical_accuracy: 0.6500\n",
      "\n",
      "Epoch 00025: saving model to model_init_2019-12-2218_59_47.526851/model-00025-0.14904-0.94928-1.32328-0.65000.h5\n"
     ]
    },
    {
     "data": {
      "text/plain": [
       "<keras.callbacks.History at 0x7f3afc6ebda0>"
      ]
     },
     "execution_count": 12,
     "metadata": {},
     "output_type": "execute_result"
    }
   ],
   "source": [
    "#num_epochs are typically 50 or 100, based on the learning rate\n",
    "model.fit_generator(train_generator, steps_per_epoch=steps_per_epoch, epochs=num_epochs, verbose=1, \n",
    "                    callbacks=callbacks_list, validation_data=val_generator, \n",
    "                    validation_steps=validation_steps, class_weight=None, workers=1, initial_epoch=0)"
   ]
  },
  {
   "cell_type": "code",
   "execution_count": null,
   "metadata": {},
   "outputs": [],
   "source": []
  }
 ],
 "metadata": {
  "kernelspec": {
   "display_name": "Python 2",
   "language": "python",
   "name": "python2"
  },
  "language_info": {
   "codemirror_mode": {
    "name": "ipython",
    "version": 2
   },
   "file_extension": ".py",
   "mimetype": "text/x-python",
   "name": "python",
   "nbconvert_exporter": "python",
   "pygments_lexer": "ipython2",
   "version": "2.7.15"
  }
 },
 "nbformat": 4,
 "nbformat_minor": 2
}
